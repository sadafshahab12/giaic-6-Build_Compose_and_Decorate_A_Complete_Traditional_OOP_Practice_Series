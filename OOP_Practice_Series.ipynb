{
  "nbformat": 4,
  "nbformat_minor": 0,
  "metadata": {
    "colab": {
      "provenance": [],
      "authorship_tag": "ABX9TyNTXY82S7vXn/t6NMbV9lZ0",
      "include_colab_link": true
    },
    "kernelspec": {
      "name": "python3",
      "display_name": "Python 3"
    },
    "language_info": {
      "name": "python"
    }
  },
  "cells": [
    {
      "cell_type": "markdown",
      "metadata": {
        "id": "view-in-github",
        "colab_type": "text"
      },
      "source": [
        "<a href=\"https://colab.research.google.com/github/sadafshahab12/giaic-6-Build_Compose_and_Decorate_A_Complete_Traditional_OOP_Practice_Series/blob/main/OOP_Practice_Series.ipynb\" target=\"_parent\"><img src=\"https://colab.research.google.com/assets/colab-badge.svg\" alt=\"Open In Colab\"/></a>"
      ]
    },
    {
      "cell_type": "markdown",
      "source": [
        "### Using self"
      ],
      "metadata": {
        "id": "dEeD1dAPdujO"
      }
    },
    {
      "cell_type": "code",
      "execution_count": null,
      "metadata": {
        "colab": {
          "base_uri": "https://localhost:8080/"
        },
        "id": "U8hMVItDduAU",
        "outputId": "e39feece-3387-402d-8379-23d98c5c1be5"
      },
      "outputs": [
        {
          "output_type": "stream",
          "name": "stdout",
          "text": [
            "Student Name: Sadaf \n",
            "Student Marks: 87 \n",
            "Student Name: Hani \n",
            "Student Marks: 98 \n"
          ]
        }
      ],
      "source": [
        "class Student:\n",
        "  def __init__ (self, name, marks):\n",
        "    self.name = name\n",
        "    self.marks = marks\n",
        "\n",
        "  def display(self):\n",
        "    print(f\"Student Name: {self.name} \")\n",
        "    print(f\"Student Marks: {self.marks} \")\n",
        "\n",
        "  # def add_marks(self, mark):\n",
        "  #   self.marks = self.marks + mark\n",
        "student1 = Student(\"Sadaf\" , 87)\n",
        "# student1.add_marks(50)\n",
        "student1.display()\n",
        "student2 = Student(\"Hani\" , 98)\n",
        "student2.display()\n"
      ]
    },
    {
      "cell_type": "markdown",
      "source": [
        "### Using cls\n",
        "Create a class Counter that keeps track of how many objects have been created. Use a class variable and a class method with cls to manage and display the count.\n",
        "\n"
      ],
      "metadata": {
        "id": "B8qQhvFcpQLZ"
      }
    },
    {
      "cell_type": "code",
      "source": [
        "class Counter:\n",
        "  count = 0 #class variable\n",
        "\n",
        "  def __init__(self):\n",
        "    Counter.count += 1 #increase count by 1 when and object is created\n",
        "\n",
        "  @classmethod\n",
        "  def show_count(cls):\n",
        "    print(f\"Total object created: {cls.count}\")\n",
        "\n",
        "a = Counter()\n",
        "b = Counter()\n",
        "c = Counter()\n",
        "d = Counter()\n",
        "Counter.show_count()\n",
        "\n",
        "\n"
      ],
      "metadata": {
        "colab": {
          "base_uri": "https://localhost:8080/"
        },
        "id": "whmyDD0lbMI2",
        "outputId": "bd13ca43-0b78-4e5b-e4de-fb90ab96779f"
      },
      "execution_count": null,
      "outputs": [
        {
          "output_type": "stream",
          "name": "stdout",
          "text": [
            "Total object created: 4\n"
          ]
        }
      ]
    },
    {
      "cell_type": "code",
      "source": [
        "class A:\n",
        "  count = 0\n",
        "  @classmethod\n",
        "  def show_real_Class(cls):\n",
        "    print(f\"From {cls.__name__}\")\n",
        "\n",
        "A.show_real_Class()\n",
        "class B(A):\n",
        "  pass\n",
        "\n",
        "B.show_real_Class()"
      ],
      "metadata": {
        "colab": {
          "base_uri": "https://localhost:8080/"
        },
        "id": "3QM-AyJ5BMnc",
        "outputId": "a005b746-0549-43ce-bc5d-6aa2fce3f852"
      },
      "execution_count": null,
      "outputs": [
        {
          "output_type": "stream",
          "name": "stdout",
          "text": [
            "From A\n",
            "From B\n"
          ]
        }
      ]
    },
    {
      "cell_type": "markdown",
      "source": [
        "### Public Variables and Methods\n",
        "Assignment:\n",
        "Create a class Car with a public variable brand and a public method start(). Instantiate the class and access both from outside the class.\n",
        "\n"
      ],
      "metadata": {
        "id": "ANCRmLD2CLG7"
      }
    },
    {
      "cell_type": "code",
      "source": [
        "class Car():\n",
        "  def __init__(self, brand):\n",
        "    self.brand = brand #here we have created public variable\n",
        "\n",
        "  def start(self):\n",
        "    print(self.brand, \"is starting....\")\n",
        "\n",
        "my_car = Car(\"Corolla\") #object created\n",
        "print(my_car.brand) # car public varible print out of the class because it was public method and can easily be accessed out of the class.\n",
        "my_car.start() #car method call out of the class because it was public method and can easily be accessed out of the class.\n",
        "\n",
        "\n"
      ],
      "metadata": {
        "colab": {
          "base_uri": "https://localhost:8080/"
        },
        "id": "cEGNCWOnCNWL",
        "outputId": "51dda414-1655-4915-cd4c-1461bb0fef96"
      },
      "execution_count": null,
      "outputs": [
        {
          "output_type": "stream",
          "name": "stdout",
          "text": [
            "Corolla\n",
            "Corolla is starting....\n"
          ]
        }
      ]
    },
    {
      "cell_type": "markdown",
      "source": [
        "### Class Variables and Class Methods\n",
        "Create a class Bank with a class variable bank_name. Add a class method change_bank_name(cls, name) that allows changing the bank name. Show that it affects all instances."
      ],
      "metadata": {
        "id": "LSGJY15iDxrK"
      }
    },
    {
      "cell_type": "code",
      "source": [
        "class Bank():\n",
        "  bank_name = \"MCB\"\n",
        "\n",
        "  @classmethod\n",
        "  def change_bank_name(cls, name):\n",
        "    cls.bank_name = name\n",
        "\n",
        "print(Bank.bank_name)\n",
        "Bank.change_bank_name(\"Meezan\")\n",
        "print(Bank.bank_name)\n",
        "Bank.change_bank_name(\"national\")\n",
        "print(Bank.bank_name)\n"
      ],
      "metadata": {
        "colab": {
          "base_uri": "https://localhost:8080/"
        },
        "id": "6k4ERpFCDzvC",
        "outputId": "56aa1e33-a717-413e-924b-69cad903051a"
      },
      "execution_count": null,
      "outputs": [
        {
          "output_type": "stream",
          "name": "stdout",
          "text": [
            "MCB\n",
            "Meezan\n",
            "national\n"
          ]
        }
      ]
    },
    {
      "cell_type": "markdown",
      "source": [
        "### Static Variables and Static Methods\n",
        "\n",
        "Create a class MathUtils with a static method add(a, b) that returns the sum. No class or instance variables should be used."
      ],
      "metadata": {
        "id": "HtaSrR8s-xQm"
      }
    },
    {
      "cell_type": "code",
      "source": [
        "class MathUtils():\n",
        "  @staticmethod\n",
        "\n",
        "  def add (a,b):\n",
        "    return a + b\n",
        "\n",
        "sum = MathUtils.add(5,3)\n",
        "print(f\"Sum is: {sum}\")\n"
      ],
      "metadata": {
        "colab": {
          "base_uri": "https://localhost:8080/"
        },
        "id": "vRHtUzd_-zPO",
        "outputId": "056882bb-03d8-44e2-a21a-43cf61546362"
      },
      "execution_count": null,
      "outputs": [
        {
          "output_type": "stream",
          "name": "stdout",
          "text": [
            "Sum is: 8\n"
          ]
        }
      ]
    },
    {
      "cell_type": "markdown",
      "source": [
        "### Constructors and Destructors\n",
        "\n",
        "Create a class Logger that prints a message when an object is created (constructor) and another message when it is destroyed (destructor).\n",
        "\n"
      ],
      "metadata": {
        "id": "6MAi15sJBDs9"
      }
    },
    {
      "cell_type": "code",
      "source": [
        "class Logger():\n",
        "  def __init__(self):\n",
        "    print(\"Logger Object Created\")\n",
        "  def __del__(self):\n",
        "    print(\"Logger object destroyed\")\n",
        "\n",
        "log = Logger()\n",
        "del log\n"
      ],
      "metadata": {
        "colab": {
          "base_uri": "https://localhost:8080/"
        },
        "id": "V8yte56OAC3W",
        "outputId": "ef1061a7-f6ea-459d-aeeb-824e92e397b0"
      },
      "execution_count": null,
      "outputs": [
        {
          "output_type": "stream",
          "name": "stdout",
          "text": [
            "Logger Object Created\n",
            "Logger object destroyed\n"
          ]
        }
      ]
    },
    {
      "cell_type": "markdown",
      "source": [
        "### Access Modifiers: Public, Private, and Protected\n",
        "\n",
        "Create a class Employee with:\n",
        "\n",
        "a public variable name,\n",
        "\n",
        "a protected variable _salary, and\n",
        "\n",
        "a private variable __ssn.\n",
        "\n",
        "Try accessing all three variables from an object of the class and document what happens."
      ],
      "metadata": {
        "id": "NuGB6nodGnC2"
      }
    },
    {
      "cell_type": "code",
      "source": [
        "class Employee():\n",
        "  def __init__(self, name, salary, ssn):\n",
        "    self.name = name\n",
        "    self._salary = salary\n",
        "    self.__ssn = ssn\n",
        "\n",
        "emp1 = Employee(\"Sadaf\" , 2000 , \"123-45-6789\")\n",
        "print(f\"Public: {emp1.name} \")\n",
        "print(f\"Protected: {emp1._salary}\")\n",
        "\n",
        "\n",
        "try:\n",
        "  print(f\"Private: {emp1.__ssn}\")\n",
        "except AttributeError as e:\n",
        "  print(f\"Private: Cannot access directly (AttributeError) {e}\")\n",
        "\n",
        "print(f\"Private via name mangling {emp1._Employee__ssn}\")"
      ],
      "metadata": {
        "colab": {
          "base_uri": "https://localhost:8080/"
        },
        "id": "vnCdMFyRGtFv",
        "outputId": "0f63b924-581c-4aee-9d8c-c72c3a415dda"
      },
      "execution_count": null,
      "outputs": [
        {
          "output_type": "stream",
          "name": "stdout",
          "text": [
            "Public: Sadaf \n",
            "Protected: 2000\n",
            "Private: Cannot access directly (AttributeError) 'Employee' object has no attribute '__ssn'\n",
            "Private via name mangling 123-45-6789\n"
          ]
        }
      ]
    },
    {
      "cell_type": "markdown",
      "source": [
        "### The super() Function\n",
        "\n",
        "Create a class Person with a constructor that sets the name. Inherit a class Teacher from it, add a subject field, and use super() to call the base class constructor.\n",
        "\n"
      ],
      "metadata": {
        "id": "bpeRdUSxI8E8"
      }
    },
    {
      "cell_type": "code",
      "source": [
        "class Person():\n",
        "  def __init__(self, name):\n",
        "    self.name = name\n",
        "\n",
        "class Teacher(Person):\n",
        "  def __init__(self, name, subject):\n",
        "    self.subject =subject\n",
        "    super().__init__(name)\n",
        "  def show(self):\n",
        "    print(f\"Teacher Name : {self.name} , Subject: {self.subject}\")\n",
        "\n",
        "t1 = Teacher(\"Sadaf\" , \"Maths\")\n",
        "t1.show()\n",
        "\n",
        "\n"
      ],
      "metadata": {
        "colab": {
          "base_uri": "https://localhost:8080/"
        },
        "id": "Ae61lL7wI7ok",
        "outputId": "e1b7e850-ebae-4aea-df95-b08a0b3b41b7"
      },
      "execution_count": null,
      "outputs": [
        {
          "output_type": "stream",
          "name": "stdout",
          "text": [
            "Teacher Name : Sadaf , Subject: Maths\n"
          ]
        }
      ]
    },
    {
      "cell_type": "markdown",
      "source": [
        "### Abstract Classes and Methods\n",
        "\n",
        "\n",
        "Use the abc module to create an abstract class Shape with an abstract method area(). Inherit a class Rectangle that implements area()."
      ],
      "metadata": {
        "id": "HYm0ScviKRDD"
      }
    },
    {
      "cell_type": "code",
      "source": [
        "from abc import ABC, abstractmethod\n",
        "class Shape(ABC):\n",
        "  @abstractmethod\n",
        "  def area(self):\n",
        "    pass\n",
        "class Rectangle(Shape):\n",
        "  def __init__(self, width, height):\n",
        "    self.width = width\n",
        "    self.height = height\n",
        "  def area(self):\n",
        "    return self.width * self.height\n",
        "\n",
        "rect1 = Rectangle(5 , 6)\n",
        "print(f\"Area: {rect1.area()}\")\n"
      ],
      "metadata": {
        "id": "ts6dv4XDKTr7",
        "colab": {
          "base_uri": "https://localhost:8080/"
        },
        "outputId": "6c14b199-4608-46e5-8f90-ec47df2b8297"
      },
      "execution_count": 1,
      "outputs": [
        {
          "output_type": "stream",
          "name": "stdout",
          "text": [
            "Area: 30\n"
          ]
        }
      ]
    },
    {
      "cell_type": "markdown",
      "source": [
        "### Instance Methods\n",
        "\n",
        "Create a class Dog with instance variables name and breed. Add an instance method bark() that prints a message including the dog's name."
      ],
      "metadata": {
        "id": "en_tDRD51kNa"
      }
    },
    {
      "cell_type": "code",
      "source": [
        "class Dog():\n",
        "  def __init__(self, name, breed):\n",
        "    self.name = name\n",
        "    self.breed = name\n",
        "\n",
        "  def bark(self):\n",
        "    print(f\"{self.name} is Barking!\")\n",
        "\n",
        "d1 = Dog(\"Kitto\" , \"German Shepherd\")\n",
        "d2 = Dog(\"Max\" , \"Labrador\")\n",
        "d1.bark()\n",
        "d2.bark()"
      ],
      "metadata": {
        "colab": {
          "base_uri": "https://localhost:8080/"
        },
        "id": "Nc6AqcMx1jqi",
        "outputId": "c4974d56-73b8-45e3-f211-d173dc8c6551"
      },
      "execution_count": 6,
      "outputs": [
        {
          "output_type": "stream",
          "name": "stdout",
          "text": [
            "Kitto is Barking!\n",
            "Max is Barking!\n"
          ]
        }
      ]
    },
    {
      "cell_type": "markdown",
      "source": [
        "### Class Methods\n",
        "\n",
        "Create a class Book with a class variable total_books. Add a class method increment_book_count() to increase the count when a new book is added.\n",
        "\n"
      ],
      "metadata": {
        "id": "xH6M8frD2jLR"
      }
    },
    {
      "cell_type": "code",
      "source": [
        "class Book():\n",
        "  total_books = 0\n",
        "  @classmethod\n",
        "  def increment_book_count(cls):\n",
        "    cls.total_books += 1\n",
        "\n",
        "b1 = Book()\n",
        "Book.increment_book_count()\n",
        "b2 = Book()\n",
        "Book.increment_book_count()\n",
        "b3 = Book()\n",
        "Book.increment_book_count()\n",
        "print(f\"Total Books: {Book.total_books}\")"
      ],
      "metadata": {
        "colab": {
          "base_uri": "https://localhost:8080/"
        },
        "id": "elYuBy6V2lC4",
        "outputId": "4cc3bda9-087f-4434-a702-64f63a73804e"
      },
      "execution_count": 9,
      "outputs": [
        {
          "output_type": "stream",
          "name": "stdout",
          "text": [
            "Total Books: 3\n"
          ]
        }
      ]
    },
    {
      "cell_type": "markdown",
      "source": [
        "### Static Methods\n",
        "\n",
        "Create a class TemperatureConverter with a static method celsius_to_fahrenheit(c) that returns the Fahrenheit value."
      ],
      "metadata": {
        "id": "7FDX_Lgc3iW4"
      }
    },
    {
      "cell_type": "code",
      "source": [
        "class TemperatureConverter():\n",
        "  @staticmethod\n",
        "  def celsius_to_fah(c):\n",
        "    return (c * 9/5) + 32\n",
        "\n",
        "fah = TemperatureConverter.celsius_to_fah(50)\n",
        "print(f\"Fahrenheit: {fah}\")"
      ],
      "metadata": {
        "colab": {
          "base_uri": "https://localhost:8080/"
        },
        "id": "mRZYMBBX3kaA",
        "outputId": "c884caeb-d5d5-47bb-8d6f-f386c76ad5ce"
      },
      "execution_count": 11,
      "outputs": [
        {
          "output_type": "stream",
          "name": "stdout",
          "text": [
            "Fahrenheit: 122.0\n"
          ]
        }
      ]
    },
    {
      "cell_type": "markdown",
      "source": [
        "### Composition\n",
        "\n",
        "Create a class Engine and a class Car. Use composition by passing an Engine object to the Car class during initialization. Access a method of the Engine class via the Car class."
      ],
      "metadata": {
        "id": "g6WxJDSu4TAp"
      }
    },
    {
      "cell_type": "code",
      "source": [
        "class Engine():\n",
        "  def start(self):\n",
        "    print(\"Engine Started!\")\n",
        "class Car():\n",
        "  def __init__(self,engine):\n",
        "    self.engine = engine\n",
        "  def start_car(self):\n",
        "    self.engine.start()\n",
        "\n",
        "eng = Engine()\n",
        "car = Car(eng)\n",
        "car.start_car()"
      ],
      "metadata": {
        "colab": {
          "base_uri": "https://localhost:8080/"
        },
        "id": "rSYKfSrt4WKX",
        "outputId": "13fbdc45-6afe-4792-c8f2-a7119f361230"
      },
      "execution_count": 13,
      "outputs": [
        {
          "output_type": "stream",
          "name": "stdout",
          "text": [
            "Engine Started!\n"
          ]
        }
      ]
    },
    {
      "cell_type": "markdown",
      "source": [
        "### Aggregation\n",
        "\n",
        "Create a class Department and a class Employee. Use aggregation by having a Department object store a reference to an Employee object that exists independently of it."
      ],
      "metadata": {
        "id": "QcVsUNMT7fBd"
      }
    },
    {
      "cell_type": "code",
      "source": [
        "class Employee():\n",
        "  def __init__(self, name):\n",
        "    self.name = name\n",
        "class Department():\n",
        "  def __init__(self, department_name, employee):\n",
        "    self.department_name = department_name\n",
        "    self.employee = employee\n",
        "\n",
        "  def show_details(self):\n",
        "    print(f\"Department Name: {self.department_name}\")\n",
        "    print(f\"Employee Name : {self.employee.name}\")\n",
        "\n",
        "emp = Employee(\"Sadaf\")\n",
        "dept = Department(\"IT\" , emp)\n",
        "dept.show_details()\n"
      ],
      "metadata": {
        "colab": {
          "base_uri": "https://localhost:8080/"
        },
        "id": "u8Wmtmxs7hQd",
        "outputId": "269d5a72-519e-40e8-cde1-e5944fd4434a"
      },
      "execution_count": 14,
      "outputs": [
        {
          "output_type": "stream",
          "name": "stdout",
          "text": [
            "Department Name: IT\n",
            "Employee Name : Sadaf\n"
          ]
        }
      ]
    },
    {
      "cell_type": "markdown",
      "source": [
        "### Method Resolution Order (MRO) and Diamond Inheritance\n",
        "\n",
        "Create four classes:\n",
        "\n",
        "A with a method show(),\n",
        "\n",
        "B and C that inherit from A and override show(),\n",
        "\n",
        "D that inherits from both B and C.\n",
        "\n",
        "Create an object of D and call show() to observe MRO.\n",
        "\n"
      ],
      "metadata": {
        "id": "BkJegbZc-B-k"
      }
    },
    {
      "cell_type": "code",
      "source": [
        "class A():\n",
        "  def show(self):\n",
        "    print(f\"A ka show()\")\n",
        "class B(A):\n",
        "  def show(self):\n",
        "    print(f\"B ka show()\")\n",
        "class C(A):\n",
        "  def show(self):\n",
        "     print(f\"C ka show()\")\n",
        "\n",
        "class D(B,C):\n",
        "    pass\n",
        "\n",
        "d = D()\n",
        "d.show()\n",
        "print(D.__mro__)\n",
        "\n",
        "\n"
      ],
      "metadata": {
        "colab": {
          "base_uri": "https://localhost:8080/"
        },
        "id": "1DO7Swms8uRE",
        "outputId": "a8e4de3a-429b-47c9-b3e0-91a173709be6"
      },
      "execution_count": 16,
      "outputs": [
        {
          "output_type": "stream",
          "name": "stdout",
          "text": [
            "<__main__.D object at 0x7b1adcbe51d0>\n",
            "B ka show()\n",
            "(<class '__main__.D'>, <class '__main__.B'>, <class '__main__.C'>, <class '__main__.A'>, <class 'object'>)\n"
          ]
        }
      ]
    },
    {
      "cell_type": "markdown",
      "source": [
        "### Function Decorators\n",
        "\n",
        "Write a decorator function log_function_call that prints \"Function is being called\" before a function executes. Apply it to a function say_hello()."
      ],
      "metadata": {
        "id": "JF5xKLBhAI3a"
      }
    },
    {
      "cell_type": "code",
      "source": [
        "def log_function_call(func):\n",
        "  def wrapper():\n",
        "    print(\"Function is being called:\")\n",
        "    func()\n",
        "  return wrapper\n",
        "\n",
        "@log_function_call\n",
        "def say_hello():\n",
        "  print(\"Hello\")\n",
        "\n",
        "say_hello()"
      ],
      "metadata": {
        "colab": {
          "base_uri": "https://localhost:8080/"
        },
        "id": "rMEQL6xoAKlK",
        "outputId": "cfc972ae-3adb-4829-dcce-6bba99edb97b"
      },
      "execution_count": 17,
      "outputs": [
        {
          "output_type": "stream",
          "name": "stdout",
          "text": [
            "Function is being called:\n",
            "Hello\n"
          ]
        }
      ]
    },
    {
      "cell_type": "markdown",
      "source": [
        "### Class Decorators\n",
        "\n",
        "Create a class decorator add_greeting that modifies a class to add a greet() method returning \"Hello from Decorator!\". Apply it to a class Person."
      ],
      "metadata": {
        "id": "aAS3xFaNjbLO"
      }
    },
    {
      "cell_type": "code",
      "source": [
        "def add_greeting(cls):\n",
        "  def greet(self):\n",
        "    return \"Hello from Decorator!\"\n",
        "\n",
        "  cls.greet = greet\n",
        "  return cls\n",
        "\n",
        "@add_greeting\n",
        "class Person():\n",
        "  def __init__(self, name):\n",
        "    self.name = name\n",
        "\n",
        "  def say_name(self):\n",
        "    print(f\"My name is {self.name}\")\n",
        "\n",
        "person1 = Person(\"Sadaf\")\n",
        "person1.say_name()\n",
        "person1.greet()\n"
      ],
      "metadata": {
        "colab": {
          "base_uri": "https://localhost:8080/",
          "height": 52
        },
        "id": "6llmQOxMjhqK",
        "outputId": "598de5a9-a667-4373-80a5-f4f76ca8e571"
      },
      "execution_count": 18,
      "outputs": [
        {
          "output_type": "stream",
          "name": "stdout",
          "text": [
            "My name is Sadaf\n"
          ]
        },
        {
          "output_type": "execute_result",
          "data": {
            "text/plain": [
              "'Hello from Decorator!'"
            ],
            "application/vnd.google.colaboratory.intrinsic+json": {
              "type": "string"
            }
          },
          "metadata": {},
          "execution_count": 18
        }
      ]
    },
    {
      "cell_type": "markdown",
      "source": [
        "### Property Decorators: @property, @setter, and @deleter\n",
        "\n",
        "Create a class Product with a private attribute _price. Use @property to get the price, @price.setter to update it, and @price.deleter to delete it."
      ],
      "metadata": {
        "id": "_Yans09VmLuI"
      }
    },
    {
      "cell_type": "code",
      "source": [
        "class Product():\n",
        "  def __init__(self, price):\n",
        "    self._price = price\n",
        "\n",
        "  @property\n",
        "  def price(self):\n",
        "    return self._price\n",
        "\n",
        "  @price.setter\n",
        "  def price(self, value):\n",
        "    if value < 0:\n",
        "      raise ValueError(\"Price cannot be negative\")\n",
        "    self._price = value\n",
        "\n",
        "  @price.deleter\n",
        "  def price(self):\n",
        "    print(\"Deleting the price\")\n",
        "    del self._price\n",
        "\n",
        "product1 = Product(100)\n",
        "print(f\"Product Price : {product1.price}\")\n",
        "product1.price = 300\n",
        "print(f\"Product Price : {product1.price}\")\n",
        "\n",
        "try:\n",
        "  product1.price = -50\n",
        "except ValueError as e:\n",
        "  print(f\"Error: {e}\")\n",
        "\n",
        "del product1.price"
      ],
      "metadata": {
        "colab": {
          "base_uri": "https://localhost:8080/"
        },
        "id": "KP4DIAYImK-p",
        "outputId": "a4b20ced-974a-4b16-bb5d-e9dfb8120d44"
      },
      "execution_count": 6,
      "outputs": [
        {
          "output_type": "stream",
          "name": "stdout",
          "text": [
            "Product Price : 100\n",
            "Product Price : 300\n",
            "Error: Price cannot be negative\n",
            "Deleting the price\n"
          ]
        }
      ]
    },
    {
      "cell_type": "markdown",
      "source": [
        "### callable() and __call__()\n",
        "\n",
        "Create a class Multiplier with an __init__() to set a factor. Define a __call__() method that multiplies an input by the factor. Test it with callable() and by calling the object like a function.\n",
        "\n"
      ],
      "metadata": {
        "id": "IDhVQDAQ0iBO"
      }
    },
    {
      "cell_type": "code",
      "source": [
        "class Multiplier():\n",
        "  def __init__(self, factor):\n",
        "    self.factor = factor\n",
        "\n",
        "  def __call__(self, number):\n",
        "    return number * self.factor\n",
        "\n",
        "m1 = Multiplier(5)\n",
        "print(callable(m1)) #callable function check if object call as function or not\n",
        "print(m1(5)) #obj can call as function\n",
        "print(m1(3))\n",
        "\n"
      ],
      "metadata": {
        "colab": {
          "base_uri": "https://localhost:8080/"
        },
        "id": "rUoxuzMz0k9t",
        "outputId": "9f8df356-bac1-455e-8910-c3633521d2ac"
      },
      "execution_count": 7,
      "outputs": [
        {
          "output_type": "stream",
          "name": "stdout",
          "text": [
            "True\n",
            "25\n",
            "15\n"
          ]
        }
      ]
    },
    {
      "cell_type": "markdown",
      "source": [
        "### Creating a Custom Exception\n",
        "\n",
        "Create a custom exception InvalidAgeError. Write a function check_age(age) that raises this exception if age < 18. Handle it with try...except."
      ],
      "metadata": {
        "id": "SWvpw_1jWBE8"
      }
    },
    {
      "cell_type": "code",
      "source": [
        "class InvalidAgeError(Exception):\n",
        "  pass\n",
        "\n",
        "def check_age(age):\n",
        "    if age < 18:\n",
        "      raise InvalidAgeError(\"Age must be 18 or older\")\n",
        "    else:\n",
        "      print(\"Accessed granted!\")\n",
        "\n",
        "try:\n",
        "  user_age = int(input(\"Enter you age: \"))\n",
        "  check_age(user_age)\n",
        "except InvalidAgeError as e:\n",
        "  print(f\"Error: {e}\")\n"
      ],
      "metadata": {
        "colab": {
          "base_uri": "https://localhost:8080/"
        },
        "id": "fqRc4wLuWMe8",
        "outputId": "86a1c9c6-80e9-47c7-c1e7-009d3e9d2c91"
      },
      "execution_count": 9,
      "outputs": [
        {
          "output_type": "stream",
          "name": "stdout",
          "text": [
            "Enter you age: 50\n",
            "Accessed granted!\n"
          ]
        }
      ]
    },
    {
      "cell_type": "markdown",
      "source": [
        "### Make a Custom Class Iterable\n",
        "\n",
        "Create a class Countdown that takes a start number. Implement __iter__() and __next__() to make the object iterable in a for-loop, counting down to 0."
      ],
      "metadata": {
        "id": "ZdSC57JaXhFE"
      }
    },
    {
      "cell_type": "code",
      "source": [
        "class CountDown():\n",
        "  def __init__(self, start_number):\n",
        "    self.start_number = start_number\n",
        "    self.current = start_number\n",
        "\n",
        "  def __iter__(self):\n",
        "    return self #it should be return\n",
        "\n",
        "  def __next__(self):\n",
        "    if self.current < 0:\n",
        "      raise StopIteration\n",
        "    value = self.current\n",
        "    self.current -= 1\n",
        "    return value\n",
        "\n",
        "count = CountDown(5)\n",
        "for num in count:\n",
        "  print(num)"
      ],
      "metadata": {
        "colab": {
          "base_uri": "https://localhost:8080/"
        },
        "id": "dYayLhHYXjg7",
        "outputId": "ffb0add7-2cf3-4e4b-b12b-32836143848b"
      },
      "execution_count": 12,
      "outputs": [
        {
          "output_type": "stream",
          "name": "stdout",
          "text": [
            "5\n",
            "4\n",
            "3\n",
            "2\n",
            "1\n",
            "0\n"
          ]
        }
      ]
    },
    {
      "cell_type": "code",
      "source": [
        "class Countdown:\n",
        "    def __init__(self, start):\n",
        "        self.start = start         # Original start value (constant)\n",
        "        self.current = start       # Iteration ke liye current value\n",
        "\n",
        "    def __iter__(self):\n",
        "        self.current = self.start  # Har baar naye loop ke liye reset\n",
        "        return self\n",
        "\n",
        "    def __next__(self):\n",
        "        if self.current < 0:\n",
        "            raise StopIteration\n",
        "        value = self.current\n",
        "        self.current -= 1\n",
        "        return value\n",
        "c = Countdown(3)\n",
        "\n",
        "# First countdown\n",
        "print(\"First countdown:\")\n",
        "for num in c:\n",
        "    print(num)\n",
        "\n",
        "# Second countdown — will start again from 3\n",
        "print(\"Second countdown:\")\n",
        "for num in c:\n",
        "    print(num)\n"
      ],
      "metadata": {
        "colab": {
          "base_uri": "https://localhost:8080/"
        },
        "id": "nJZROAqfZ9_7",
        "outputId": "a8181dcf-3807-42a3-8f88-ba7dc8327857"
      },
      "execution_count": 15,
      "outputs": [
        {
          "output_type": "stream",
          "name": "stdout",
          "text": [
            "First countdown:\n",
            "3\n",
            "2\n",
            "1\n",
            "0\n",
            "Second countdown:\n",
            "3\n",
            "2\n",
            "1\n",
            "0\n"
          ]
        }
      ]
    }
  ]
}